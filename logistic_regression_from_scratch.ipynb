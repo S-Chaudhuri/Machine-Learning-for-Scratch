{
  "nbformat": 4,
  "nbformat_minor": 0,
  "metadata": {
    "colab": {
      "provenance": [],
      "authorship_tag": "ABX9TyPQIF45cjx5MYPVhySQ/mMD",
      "include_colab_link": true
    },
    "kernelspec": {
      "name": "python3",
      "display_name": "Python 3"
    },
    "language_info": {
      "name": "python"
    }
  },
  "cells": [
    {
      "cell_type": "markdown",
      "metadata": {
        "id": "view-in-github",
        "colab_type": "text"
      },
      "source": [
        "<a href=\"https://colab.research.google.com/github/S-Chaudhuri/Machine-Learning-from-Scratch/blob/main/logistic_regression_from_scratch.ipynb\" target=\"_parent\"><img src=\"https://colab.research.google.com/assets/colab-badge.svg\" alt=\"Open In Colab\"/></a>"
      ]
    },
    {
      "cell_type": "code",
      "source": [
        "import numpy as np \n",
        "from numpy import log,dot,exp,shape\n",
        "import matplotlib.pyplot as plt\n",
        "from sklearn.datasets import make_classification\n",
        "X,y = make_classification(n_features=4)\n",
        "from sklearn.model_selection import train_test_split  \n",
        "X_tr,X_te,y_tr,y_te = train_test_split(X,y,test_size=0.1)\n",
        "def standardize(X_tr):\n",
        "    for i in range(shape(X_tr)[1]):\n",
        "        X_tr[:,i] = (X_tr[:,i] - np.mean(X_tr[:,i]))/np.std(X_tr[:,i]) #stadardize (normalize)\n",
        "def F1_score(y,y_hat):\n",
        "    tp,tn,fp,fn = 0,0,0,0\n",
        "    for i in range(len(y)):\n",
        "        if y[i] == 1 and y_hat[i] == 1:\n",
        "            tp += 1\n",
        "        elif y[i] == 1 and y_hat[i] == 0:\n",
        "            fn += 1\n",
        "        elif y[i] == 0 and y_hat[i] == 1:\n",
        "            fp += 1\n",
        "        elif y[i] == 0 and y_hat[i] == 0:\n",
        "            tn += 1\n",
        "    precision = tp/(tp+fp)\n",
        "    recall = tp/(tp+fn)\n",
        "    f1_score = 2*precision*recall/(precision+recall)\n",
        "    return f1_score\n",
        "class LogisticRegression:\n",
        "    def sigmoid(self,z):\n",
        "        sig = 1/(1+exp(-z))\n",
        "        return sig\n",
        "    def initialize(self,X):\n",
        "        weights = np.zeros((shape(X)[1]+1,1))\n",
        "        X = np.c_[np.ones((shape(X)[0],1)),X]\n",
        "        return weights,X\n",
        "    def fit(self,X,y,alpha=0.001,iter=400):\n",
        "        weights,X = self.initialize(X)\n",
        "        def cost(theta):\n",
        "            z = dot(X,theta)\n",
        "            cost0 = y.T.dot(log(self.sigmoid(z)))\n",
        "            cost1 = (1-y).T.dot(log(1-self.sigmoid(z)))\n",
        "            cost = -((cost1 + cost0))/len(y)\n",
        "            return cost\n",
        "        cost_list = np.zeros(iter,)\n",
        "        for i in range(iter):\n",
        "            weights = weights - alpha*dot(X.T,self.sigmoid(dot(X,weights))-np.reshape(y,(len(y),1))) #adjusting weights\n",
        "            cost_list[i] = cost(weights)\n",
        "        self.weights = weights\n",
        "        return cost_list\n",
        "    def predict(self,X):\n",
        "        z = dot(self.initialize(X)[1],self.weights)\n",
        "        lis = []\n",
        "        for i in self.sigmoid(z):\n",
        "            if i>0.5:\n",
        "                lis.append(1)\n",
        "            else:\n",
        "                lis.append(0)\n",
        "        return lis\n",
        "standardize(X_tr)\n",
        "standardize(X_te)\n",
        "obj1 = LogisticRegression()\n",
        "model= obj1.fit(X_tr,y_tr)\n",
        "y_pred = obj1.predict(X_te)\n",
        "y_train = obj1.predict(X_tr)\n",
        "f1_score_tr = F1_score(y_tr,y_train)\n",
        "f1_score_te = F1_score(y_te,y_pred)\n",
        "print(f1_score_tr)\n",
        "print(f1_score_te)"
      ],
      "metadata": {
        "colab": {
          "base_uri": "https://localhost:8080/"
        },
        "id": "t8l02bjvE4Df",
        "outputId": "5accdf51-62e2-436b-a22d-d1857e9aeb7a"
      },
      "execution_count": 3,
      "outputs": [
        {
          "output_type": "stream",
          "name": "stdout",
          "text": [
            "0.8988764044943819\n",
            "1.0\n"
          ]
        }
      ]
    }
  ]
}